{
 "cells": [
  {
   "cell_type": "code",
   "execution_count": null,
   "id": "be9ef9cf",
   "metadata": {},
   "outputs": [],
   "source": [
    "# ## https://biopython-cn.readthedocs.io/zh_CN/latest/cn/chr11.html\n",
    "# from Bio.PDB.PDBParser import PDBParser\n",
    "\n",
    "# p = PDBParser()\n",
    "# s = p.get_structure('7n0r','7n0r.pdb')\n",
    "\n",
    "# s"
   ]
  },
  {
   "cell_type": "code",
   "execution_count": null,
   "id": "66a81330",
   "metadata": {},
   "outputs": [],
   "source": [
    "# pie_values = [33,1,1,54,7,8,1,1,33,1,1,54,7,4,1,7,4,1,1,1,1,1,1,1,1,1,1,1,1,1,1,1,1]\n",
    "# pie_labels = ['Spe Axxxxxxxx {}'.format(i+1) for i in range(len(pie_values))]\n",
    "# title_text = 'Phylum XXX'\n",
    "\n",
    "\n",
    "# fig, axes = plt.subplots(1, 3, figsize=(3*3, 3))\n",
    "\n",
    "# wedges_0 = donut_pie(axes[0],pie_values,pie_labels,title_text,startangle = -40,anno_arrowprops = False)\n",
    "# wedges_1 = donut_pie(axes[1],pie_values,pie_labels,title_text,startangle = -40,anno_arrowprops = False)\n",
    "# wedges_2 = donut_pie(axes[2],pie_values,pie_labels,title_text,startangle = -40,anno_arrowprops = False)\n",
    "\n",
    "\n",
    "\n",
    "# top_xyB,bottom_xyB = cal_pie_wedge_bounds(wedges_0[0])  \n",
    "# top_xyA = (-1,1)\n",
    "# bottom_xyA= (-1,-1)\n",
    "\n",
    "# connect_axes(axes[0],axes[1],top_xyA,top_xyB,[0, 0, 0],2)\n",
    "# connect_axes(axes[0],axes[1],bottom_xyA,bottom_xyB,[0, 0, 0],2)"
   ]
  },
  {
   "cell_type": "code",
   "execution_count": null,
   "id": "196146a1",
   "metadata": {},
   "outputs": [],
   "source": [
    "import matplotlib.pyplot as plt\n",
    "from matplotlib.patches import ConnectionPatch\n",
    "import numpy as np\n",
    "from matplotlib import cycler\n",
    "from ploting_func import *\n",
    "\n",
    "from matplotlib.patches import Ellipse"
   ]
  },
  {
   "cell_type": "code",
   "execution_count": null,
   "id": "f972dcc0",
   "metadata": {},
   "outputs": [],
   "source": []
  },
  {
   "cell_type": "code",
   "execution_count": null,
   "id": "ab22733b",
   "metadata": {},
   "outputs": [],
   "source": []
  },
  {
   "cell_type": "code",
   "execution_count": null,
   "id": "eb5d1c69",
   "metadata": {},
   "outputs": [],
   "source": []
  },
  {
   "cell_type": "code",
   "execution_count": null,
   "id": "b9d46d61",
   "metadata": {},
   "outputs": [],
   "source": []
  },
  {
   "cell_type": "code",
   "execution_count": null,
   "id": "ae414ae4",
   "metadata": {},
   "outputs": [],
   "source": []
  },
  {
   "cell_type": "code",
   "execution_count": null,
   "id": "7f2aaf7c",
   "metadata": {},
   "outputs": [],
   "source": []
  },
  {
   "cell_type": "code",
   "execution_count": null,
   "id": "b0381943",
   "metadata": {},
   "outputs": [],
   "source": []
  },
  {
   "cell_type": "code",
   "execution_count": null,
   "id": "889324b0",
   "metadata": {},
   "outputs": [],
   "source": []
  },
  {
   "cell_type": "code",
   "execution_count": null,
   "id": "4c7981a3",
   "metadata": {},
   "outputs": [],
   "source": []
  },
  {
   "cell_type": "code",
   "execution_count": null,
   "id": "e518760e",
   "metadata": {},
   "outputs": [],
   "source": []
  }
 ],
 "metadata": {
  "kernelspec": {
   "display_name": "Python 3 (ipykernel)",
   "language": "python",
   "name": "python3"
  },
  "language_info": {
   "codemirror_mode": {
    "name": "ipython",
    "version": 3
   },
   "file_extension": ".py",
   "mimetype": "text/x-python",
   "name": "python",
   "nbconvert_exporter": "python",
   "pygments_lexer": "ipython3",
   "version": "3.10.8"
  }
 },
 "nbformat": 4,
 "nbformat_minor": 5
}
