{
 "cells": [
  {
   "cell_type": "code",
   "execution_count": 1,
   "id": "ac8d4a61-3f99-45e1-9ae4-c77c3aaa55d6",
   "metadata": {},
   "outputs": [],
   "source": [
    "import tensorflow as tf\n",
    "import keras\n",
    "from keras import layers\n",
    "import matplotlib.pyplot as plt\n",
    "import numpy as np"
   ]
  },
  {
   "cell_type": "markdown",
   "id": "ddbfdd87-6a46-4571-8911-9b08f8099ead",
   "metadata": {},
   "source": [
    "## Load Dataset"
   ]
  },
  {
   "cell_type": "code",
   "execution_count": 2,
   "id": "0eb1159b-e45c-49de-85b0-2d5cb33f730e",
   "metadata": {},
   "outputs": [],
   "source": [
    "(train_imgs,train_labels),(test_imgs,test_labels) = tf.keras.datasets.mnist.load_data(path=\"L:/Datasets/mnist.npz\")\n",
    "\n",
    "BufferSize = train_imgs.shape[0]\n",
    "BatchSize = 200\n",
    "\n",
    "train_imgs = tf.expand_dims(train_imgs,-1)\n",
    "trainloader = tf.data.Dataset.from_tensor_slices((train_imgs,train_labels)).shuffle(BufferSize).batch(BatchSize)\n"
   ]
  },
  {
   "cell_type": "code",
   "execution_count": 3,
   "id": "ca605954-5677-4577-a765-17fca067b9c5",
   "metadata": {},
   "outputs": [
    {
     "data": {
      "text/plain": [
       "TensorShape([60000, 28, 28, 1])"
      ]
     },
     "execution_count": 3,
     "metadata": {},
     "output_type": "execute_result"
    }
   ],
   "source": [
    "train_imgs.shape"
   ]
  },
  {
   "cell_type": "code",
   "execution_count": 4,
   "id": "18c6a08a-77ef-47d2-a2a2-76a813819e48",
   "metadata": {},
   "outputs": [
    {
     "data": {
      "image/png": "[encoded data removed]",
      "text/plain": [
       "<Figure size 640x480 with 10 Axes>"
      ]
     },
     "metadata": {},
     "output_type": "display_data"
    }
   ],
   "source": [
    "## View Img\n",
    "def showBatchImg(images,labels,maxNum=5):\n",
    "    fig, axes = plt.subplots(1, maxNum)\n",
    "    for i in range(maxNum):\n",
    "        axes[i].imshow(images[i].numpy().squeeze())\n",
    "        axes[i].set_title(labels[i].item())\n",
    "        axes[i].axis('off')\n",
    "\n",
    "showBatchImg(train_imgs, train_labels, 10)"
   ]
  },
  {
   "cell_type": "markdown",
   "id": "4d140f65-8a83-49e6-8f84-dce5af460a7e",
   "metadata": {},
   "source": [
    "## cGAN Model\n",
    "\n",
    "Generator:  [noise+label] ==> Fake_Img  \n",
    "\n",
    "Discriminator:  [Img + label] ==> if Real_Class ?\n",
    "\n",
    "Loss: BCE(if Real&ClassMatch)\n"
   ]
  },
  {
   "cell_type": "code",
   "execution_count": 5,
   "id": "7b4e9d9e-0f88-4386-83cd-942e074da28a",
   "metadata": {},
   "outputs": [],
   "source": [
    "noise_len = 50\n",
    "\n",
    "def Generator():  ## or: 3*3*128==>7*7*64==>14*14*32==>28*28*1\n",
    "    seed = layers.Input(shape=(noise_len,))\n",
    "    label = layers.Input(shape=((1,)))\n",
    "    \n",
    "    Embd = layers.Embedding(1,noise_len)(label)\n",
    "    Embd = layers.Reshape((noise_len,))(Embd)\n",
    "    x = layers.concatenate([seed,Embd])                           ## B*100\n",
    "    # x = layers.Reshape((100,))(x)\n",
    "    x = keras.Sequential(\n",
    "    [\n",
    "        layers.Dense(3*3*128,use_bias = False),                      ##  B*? ==> B*-\n",
    "        layers.Reshape((3,3,128)),                                   ##      ==> B*3*3*128\n",
    "        layers.BatchNormalization(), \n",
    "        layers.ReLU(),\n",
    "        layers.Conv2DTranspose(64, 3, 2, use_bias=False),            ##      ==> B*7*7*64      ##  filters, kernel_size, strides\n",
    "        layers.BatchNormalization(),                                                            ## = *strides + max(0,kernel_size-strides)\n",
    "        layers.ReLU(),\n",
    "        layers.Conv2DTranspose(32, 3, 2, padding=\"same\", use_bias=False), ## ==> B*14*14*32     \n",
    "        layers.BatchNormalization(), \n",
    "        layers.ReLU(),\n",
    "        layers.Conv2DTranspose(1, 3, 2, padding=\"same\", use_bias=False),  ## ==> B*28*28*1\n",
    "        layers.Activation('tanh')\n",
    "    ])(x)\n",
    "    GModel = tf.keras.Model(inputs=[seed,label],outputs=x)\n",
    "    return GModel\n",
    "\n",
    "def Discriminator():\n",
    "    label = layers.Input(shape=((1,)))\n",
    "    img = layers.Input(shape=(28,28,1))\n",
    "\n",
    "    Embd = layers.Embedding(1,28*28)(label)\n",
    "    Embd = layers.Reshape((28,28,1))(Embd)\n",
    "    x = layers.concatenate([img,Embd])                        ## B*28*28*2\n",
    "    x = keras.Sequential(\n",
    "    [\n",
    "        layers.Conv2D(32, (3, 3),strides=(2, 2), padding=\"same\", use_bias=False),    ##  ==> B*14*14*32\n",
    "        layers.BatchNormalization(), \n",
    "        layers.LeakyReLU(),\n",
    "        layers.Dropout(0.5), \n",
    "        layers.Conv2D(64, (3, 3),strides=(2, 2), padding=\"same\", use_bias=False),    ##  ==> B*7*7*64\n",
    "        layers.BatchNormalization(), \n",
    "        layers.LeakyReLU(),\n",
    "        layers.Dropout(0.5),  \n",
    "        layers.Flatten(),                                                            ##  ==> B*3136\n",
    "        layers.Dense(1)                                                              ## logits: 未被 Activation 处理\n",
    "    ])(x)\n",
    "    \n",
    "    DModel = tf.keras.Model(inputs=[img,label],outputs=x)\n",
    "    return DModel\n",
    "\n",
    "# ## Call Model ##############################\n",
    "# img = tf.ones((2, 28,28,1))\n",
    "# seed = tf.ones((2, noise_len))\n",
    "# label = tf.ones((2, 1))\n",
    "\n",
    "# DModel = Discriminator()\n",
    "# DModel((img,label)).shape\n",
    "\n",
    "# GModel = Generator()\n",
    "# GModel((seed,label)).shape"
   ]
  },
  {
   "cell_type": "code",
   "execution_count": null,
   "id": "83303a5e-e76d-4d6b-960d-85ac8f0eabd1",
   "metadata": {},
   "outputs": [],
   "source": [
    "DModel = Discriminator()\n",
    "GModel = Generator()\n",
    "\n",
    "bce = tf.keras.losses.BinaryCrossentropy(from_logits=True)\n",
    "optG = tf.keras.optimizers.Adam(1e-3)\n",
    "optD = tf.keras.optimizers.Adam(1e-5)\n",
    "\n",
    "def lossDfn(predR,predF):\n",
    "    lossR = bce(tf.ones_like(predR),predR)\n",
    "    lossF = bce(tf.zeros_like(predF),predF)\n",
    "    return lossR+lossF\n",
    "\n",
    "def lossGfn(predF):\n",
    "    return bce(tf.ones_like(predF),predF)\n",
    "\n",
    "@tf.function\n",
    "def trainStep(Images,Labels):\n",
    "    Seeds = tf.random.normal([Labels.shape[0],noise_len])\n",
    "    with tf.GradientTape() as tapeG, tf.GradientTape() as tapeD:\n",
    "        FakeImgs = GModel((Seeds,Labels),training=True)\n",
    "        predF = DModel((FakeImgs,Labels),training=True)\n",
    "        predR = DModel((Images,Labels),training=True)\n",
    "        lossG = lossGfn(predF)\n",
    "        lossD = lossDfn(predR,predF)\n",
    "    gradG = tapeG.gradient(lossG,GModel.trainable_variables) \n",
    "    gradD = tapeD.gradient(lossD,DModel.trainable_variables)\n",
    "    optG.apply_gradients(zip(gradG,GModel.trainable_variables))\n",
    "    optD.apply_gradients(zip(gradD,DModel.trainable_variables))\n",
    "    return lossG,lossD\n",
    "\n",
    "for epoch in range(20):\n",
    "    counter = 0\n",
    "    for _ , (Images,Labels) in enumerate(trainloader):\n",
    "        lossG,lossD = trainStep(Images,Labels)\n",
    "        counter += 1\n",
    "        if counter%100 == 0:\n",
    "            print(f'Epoch {epoch+1}----Generator Loss:: {lossG:>7f}----Discriminator Loss:: {lossD:>7f}')"
   ]
  },
  {
   "cell_type": "code",
   "execution_count": null,
   "id": "db7b358c-d6b7-4c23-852c-5e21cebe9b9b",
   "metadata": {},
   "outputs": [],
   "source": [
    "## Use \n",
    "test_num = 10\n",
    "\n",
    "testlabel = np.ones(test_num)*2\n",
    "testseed =tf.random.normal([test_num,noise_len])\n",
    "FakeImgs = GModel((testseed,tf.convert_to_tensor(testlabel)),training=False)\n",
    "\n",
    "showBatchImg(FakeImgs, testlabel)"
   ]
  },
  {
   "cell_type": "code",
   "execution_count": null,
   "id": "d0e13713-82d0-498a-baff-6ed8ec5d07be",
   "metadata": {},
   "outputs": [],
   "source": []
  },
  {
   "cell_type": "code",
   "execution_count": null,
   "id": "29a3e1de-71d6-4cce-a664-8c91f7e91904",
   "metadata": {},
   "outputs": [],
   "source": []
  },
  {
   "cell_type": "code",
   "execution_count": null,
   "id": "950d76d9-2b4d-4f17-b5e8-51c5251af827",
   "metadata": {},
   "outputs": [],
   "source": []
  }
 ],
 "metadata": {
  "kernelspec": {
   "display_name": "Python 3 (ipykernel)",
   "language": "python",
   "name": "python3"
  },
  "language_info": {
   "codemirror_mode": {
    "name": "ipython",
    "version": 3
   },
   "file_extension": ".py",
   "mimetype": "text/x-python",
   "name": "python",
   "nbconvert_exporter": "python",
   "pygments_lexer": "ipython3",
   "version": "3.12.1"
  }
 },
 "nbformat": 4,
 "nbformat_minor": 5
}
