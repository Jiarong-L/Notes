{
 "cells": [
  {
   "cell_type": "code",
   "execution_count": 1,
   "id": "27a61b81-bed7-4ce7-8e82-de1b5980158b",
   "metadata": {},
   "outputs": [],
   "source": [
    "import torch\n",
    "import torchvision\n",
    "from torch import nn\n",
    "\n",
    "import matplotlib.pyplot as plt\n",
    "import numpy as np"
   ]
  },
  {
   "cell_type": "code",
   "execution_count": 2,
   "id": "7286c06a-c9c9-4e01-bf04-d2f411aca5a2",
   "metadata": {},
   "outputs": [
    {
     "name": "stdout",
     "output_type": "stream",
     "text": [
      "Using cpu device\n"
     ]
    }
   ],
   "source": [
    "device = (\n",
    "    \"cuda\"\n",
    "    if torch.cuda.is_available()\n",
    "    else \"mps\"\n",
    "    if torch.backends.mps.is_available()\n",
    "    else \"cpu\"\n",
    ")\n",
    "print(f\"Using {device} device\")"
   ]
  },
  {
   "cell_type": "markdown",
   "id": "147b09d3-6c9b-419a-bbe4-5de704223a29",
   "metadata": {},
   "source": [
    "## Load Dataset"
   ]
  },
  {
   "cell_type": "code",
   "execution_count": 3,
   "id": "657ceb62-8e6f-4763-bb25-e7b7c1789483",
   "metadata": {},
   "outputs": [],
   "source": [
    "## Load DataSet\n",
    "\n",
    "transform = torchvision.transforms.Compose(\n",
    "    [\n",
    "        torchvision.transforms.Resize((28,28)),\n",
    "        torchvision.transforms.ToTensor()\n",
    "     ])\n",
    "\n",
    "batch_size = 1000\n",
    "\n",
    "trainset = torchvision.datasets.MNIST(root='L:/Datasets', train=True, download=True, transform=transform)\n",
    "trainloader = torch.utils.data.DataLoader(trainset, batch_size=batch_size,shuffle=True, num_workers=2)"
   ]
  },
  {
   "cell_type": "code",
   "execution_count": 4,
   "id": "424d8a9e-c477-4181-b7dc-fdef61d526e3",
   "metadata": {
    "scrolled": true
   },
   "outputs": [
    {
     "name": "stdout",
     "output_type": "stream",
     "text": [
      "torch.Size([1000, 1, 28, 28])\n"
     ]
    },
    {
     "data": {
      "image/png": "[encoded data removed]",
      "text/plain": [
       "<Figure size 640x480 with 10 Axes>"
      ]
     },
     "metadata": {},
     "output_type": "display_data"
    }
   ],
   "source": [
    "## View Img\n",
    "def showBatchImg(images,labels,maxNum=5):\n",
    "    fig, axes = plt.subplots(1, maxNum)\n",
    "    for i in range(min(maxNum,images.shape[0])):\n",
    "        axes[i].imshow(images[i].squeeze())\n",
    "        axes[i].set_title(labels[i].item())\n",
    "        axes[i].axis('off')\n",
    "\n",
    "images, labels = next(iter(trainloader))\n",
    "showBatchImg(images, labels, 10)\n",
    "print(images.shape)"
   ]
  },
  {
   "cell_type": "markdown",
   "id": "2f399ad6-2c82-4a7e-96af-b6beefb134bf",
   "metadata": {},
   "source": [
    "## GAN Model\n",
    "\n",
    "Generator:  [noise] ==> Fake_Img  \n",
    "\n",
    "Discriminator:  [Img] ==> Fake/Real\n",
    "\n",
    "Loss: BCE(Fake/Real)\n"
   ]
  },
  {
   "cell_type": "code",
   "execution_count": 5,
   "id": "03dcee36-85bd-4b6b-a364-8be484f281e8",
   "metadata": {},
   "outputs": [
    {
     "name": "stdout",
     "output_type": "stream",
     "text": [
      "Generator_Net(\n",
      "  (Generator): Sequential(\n",
      "    (0): ConvTranspose2d(64, 32, kernel_size=(6, 6), stride=(2, 2))\n",
      "    (1): ConvTranspose2d(32, 8, kernel_size=(6, 6), stride=(2, 2))\n",
      "    (2): ConvTranspose2d(8, 1, kernel_size=(5, 5), stride=(1, 1))\n",
      "  )\n",
      ")\n",
      "Discriminator_Net(\n",
      "  (Discriminator): Sequential(\n",
      "    (0): Conv2d(1, 6, kernel_size=(5, 5), stride=(1, 1))\n",
      "    (1): MaxPool2d(kernel_size=(2, 2), stride=(2, 2), padding=0, dilation=1, ceil_mode=False)\n",
      "    (2): Conv2d(6, 16, kernel_size=(5, 5), stride=(1, 1))\n",
      "    (3): Flatten(start_dim=1, end_dim=-1)\n",
      "    (4): Linear(in_features=1024, out_features=128, bias=True)\n",
      "    (5): LeakyReLU(negative_slope=0.01)\n",
      "    (6): Linear(in_features=128, out_features=1, bias=True)\n",
      "    (7): Sigmoid()\n",
      "  )\n",
      ")\n"
     ]
    }
   ],
   "source": [
    "## Model\n",
    "noiseShape = (64,3,3)\n",
    "class Generator_Net(nn.Module):\n",
    "    def __init__(self):              \n",
    "        super().__init__()\n",
    "        self.Generator = nn.Sequential(           ## B*64*3*3  (B*C *H*W)\n",
    "            ##  in_channel,out_channel,kernel_size\n",
    "            nn.ConvTranspose2d(64,32,6,stride=2),          ## ==> B*32* 10*10      H = (H-1)*strides + kernel_size\n",
    "            nn.ConvTranspose2d(32,8,(6,6), stride=(2, 2)), ## ==> B*8*  24*24\n",
    "            nn.ConvTranspose2d(8,1,5,stride=1),            ## ==> B*1*  28*28\n",
    "        )\n",
    "    def forward(self,noise):\n",
    "        return self.Generator(noise)\n",
    "\n",
    "class Discriminator_Net(nn.Module):\n",
    "    def __init__(self):              \n",
    "        super().__init__()\n",
    "        self.Discriminator = nn.Sequential(\n",
    "            nn.Conv2d(1,6,(5,5)),\n",
    "            nn.MaxPool2d((2,2)),\n",
    "            nn.Conv2d(6,16,(5,5)),\n",
    "            nn.Flatten(),\n",
    "            nn.Linear(16*8*8,128),\n",
    "            nn.LeakyReLU(),\n",
    "            nn.Linear(128,1), \n",
    "            nn.Sigmoid(),\n",
    "        )\n",
    "    def forward(self,x):\n",
    "        return self.Discriminator(x)\n",
    "\n",
    "modelG = Generator_Net().to(device)\n",
    "print(modelG)\n",
    "modelD = Discriminator_Net().to(device)\n",
    "print(modelD)"
   ]
  },
  {
   "cell_type": "code",
   "execution_count": 6,
   "id": "e30e4496-7966-4bfd-92df-43e2c1459e89",
   "metadata": {
    "scrolled": true
   },
   "outputs": [],
   "source": [
    "optimizer = torch.optim.SGD([{'params':modelG.parameters()},{'params':modelD.parameters()}], lr=1e-3)\n",
    "\n",
    "def lossGfn(predF):\n",
    "    return nn.BCELoss()(predF,torch.ones_like(predF))\n",
    "\n",
    "def lossDfn(predF,predR):\n",
    "    lossFake = nn.BCELoss()(predF,torch.zeros_like(predF))\n",
    "    lossReal = nn.BCELoss()(predR,torch.ones_like(predR))\n",
    "    return lossFake+lossReal\n",
    "\n",
    "def train(dataloader, modelG, modelD, lossGfn, lossDfn, optimizer, D_Train=True):\n",
    "    lossSumG = 0\n",
    "    lossSumD = 0\n",
    "    modelG.train()                                    \n",
    "    modelD.train() \n",
    "    for batch, (RealImgs, y) in enumerate(dataloader):\n",
    "        RealImgs = RealImgs.to(device)\n",
    "        ## Gen Fake Img\n",
    "        noise = torch.rand(batch_size, 64,3,3) \n",
    "        FakeImgs = modelG(noise)\n",
    "        # Compute prediction error\n",
    "        predF = modelD(FakeImgs)\n",
    "        predR = modelD(RealImgs)\n",
    "        lossG = lossGfn(predF)\n",
    "        lossD = lossDfn(predF,predR)\n",
    "        # Backpropagation\n",
    "        optimizer.zero_grad()\n",
    "        lossG.backward(retain_graph=True)\n",
    "        if D_Train:\n",
    "            lossD.backward()\n",
    "        optimizer.step()\n",
    "        ## Collect loss\n",
    "        lossSumG += lossG\n",
    "        lossSumD += lossD\n",
    "    return lossG.item(),lossD.item()"
   ]
  },
  {
   "cell_type": "code",
   "execution_count": 7,
   "id": "5261a4b3-fcc5-46b5-9b7a-562325db250c",
   "metadata": {},
   "outputs": [
    {
     "name": "stdout",
     "output_type": "stream",
     "text": [
      "Epoch 1----Generator Loss:: 0.555270----Discriminator Loss:: 1.403394\n",
      "Epoch 2----Generator Loss:: 0.379227----Discriminator Loss:: 1.526790\n",
      "Epoch 3----Generator Loss:: 0.246134----Discriminator Loss:: 1.760057\n",
      "Epoch 4----Generator Loss:: 0.216554----Discriminator Loss:: 1.818153\n",
      "Epoch 5----Generator Loss:: 0.212375----Discriminator Loss:: 1.796578\n",
      "Epoch 6----Generator Loss:: 0.206305----Discriminator Loss:: 1.786662\n",
      "Epoch 7----Generator Loss:: 0.182529----Discriminator Loss:: 1.860641\n",
      "Epoch 8----Generator Loss:: 0.144373----Discriminator Loss:: 2.048465\n",
      "Epoch 9----Generator Loss:: 0.115243----Discriminator Loss:: 2.244666\n",
      "Epoch 10----Generator Loss:: 0.096540----Discriminator Loss:: 2.404921\n"
     ]
    }
   ],
   "source": [
    "for epoch in range(10):\n",
    "    lossG,lossD = train(trainloader, modelG, modelD, lossGfn, lossDfn, optimizer, D_Train=True)\n",
    "    lossG,lossD = train(trainloader, modelG, modelD, lossGfn, lossDfn, optimizer, D_Train=False)\n",
    "    print(f'Epoch {epoch+1}----Generator Loss:: {lossG:>7f}----Discriminator Loss:: {lossD:>7f}')"
   ]
  },
  {
   "cell_type": "code",
   "execution_count": 8,
   "id": "fb1e30d2-59df-48ee-bfb3-64feff80742f",
   "metadata": {},
   "outputs": [
    {
     "name": "stdout",
     "output_type": "stream",
     "text": [
      "torch.Size([10, 1, 28, 28])\n"
     ]
    },
    {
     "data": {
      "image/png": "[encoded data removed]",
      "text/plain": [
       "<Figure size 640x480 with 5 Axes>"
      ]
     },
     "metadata": {},
     "output_type": "display_data"
    }
   ],
   "source": [
    "## Use Prediction\n",
    "modelG.eval()\n",
    "noise = torch.rand(10, 64,3,3)  ## B*noiseShape \n",
    "FakeImgs = modelG(noise)\n",
    "print(FakeImgs.shape)\n",
    "showBatchImg(FakeImgs.detach(), np.zeros(FakeImgs.shape[0]))"
   ]
  },
  {
   "cell_type": "code",
   "execution_count": null,
   "id": "8a91e5ce-09cf-47f6-ba1e-d2cc5022ef6f",
   "metadata": {},
   "outputs": [],
   "source": []
  },
  {
   "cell_type": "code",
   "execution_count": null,
   "id": "6ab1b7c3-7c7d-4a19-8849-65881be7f1e8",
   "metadata": {
    "scrolled": true
   },
   "outputs": [],
   "source": []
  }
 ],
 "metadata": {
  "kernelspec": {
   "display_name": "Python 3 (ipykernel)",
   "language": "python",
   "name": "python3"
  },
  "language_info": {
   "codemirror_mode": {
    "name": "ipython",
    "version": 3
   },
   "file_extension": ".py",
   "mimetype": "text/x-python",
   "name": "python",
   "nbconvert_exporter": "python",
   "pygments_lexer": "ipython3",
   "version": "3.12.1"
  }
 },
 "nbformat": 4,
 "nbformat_minor": 5
}
